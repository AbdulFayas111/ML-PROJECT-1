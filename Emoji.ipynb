{
  "nbformat": 4,
  "nbformat_minor": 0,
  "metadata": {
    "colab": {
      "provenance": []
    },
    "kernelspec": {
      "name": "python3",
      "display_name": "Python 3"
    },
    "language_info": {
      "name": "python"
    }
  },
  "cells": [
    {
      "cell_type": "code",
      "execution_count": 2,
      "metadata": {
        "colab": {
          "base_uri": "https://localhost:8080/"
        },
        "id": "VN9n1FzFAqdK",
        "outputId": "56174d14-d17d-4e9a-def7-c1a6fb270307"
      },
      "outputs": [
        {
          "output_type": "stream",
          "name": "stdout",
          "text": [
            "  Emoji      Context   Platform  User Age User Gender\n",
            "0     😎        angry   Snapchat        47        Male\n",
            "1     👍         love  Instagram        36        Male\n",
            "2     😳        angry   Snapchat        51        Male\n",
            "3     😂    confusion   Facebook        64        Male\n",
            "4     🤣  celebration   Snapchat        56      Female\n",
            "Accuracy: 0.031\n",
            "\n",
            "Classification Report:\n",
            "               precision    recall  f1-score   support\n",
            "\n",
            "          ❤️       0.00      0.00      0.00        26\n",
            "           🎉       0.00      0.00      0.00        34\n",
            "           👍       0.03      0.12      0.05        24\n",
            "           👏       0.02      0.06      0.03        32\n",
            "           💔       0.00      0.00      0.00        39\n",
            "           💕       0.04      0.09      0.06        43\n",
            "           😂       0.00      0.00      0.00        29\n",
            "           😅       0.00      0.00      0.00        30\n",
            "           😇       0.00      0.00      0.00        34\n",
            "           😉       0.00      0.00      0.00        29\n",
            "           😊       0.00      0.00      0.00        49\n",
            "           😍       0.00      0.00      0.00        23\n",
            "           😎       0.01      0.03      0.02        30\n",
            "           😏       0.05      0.17      0.07        30\n",
            "           😔       0.00      0.00      0.00        30\n",
            "           😘       0.03      0.10      0.04        31\n",
            "           😜       0.00      0.00      0.00        34\n",
            "           😡       0.03      0.11      0.05        28\n",
            "           😢       0.00      0.00      0.00        35\n",
            "           😭       0.00      0.00      0.00        49\n",
            "           😳       0.00      0.00      0.00        36\n",
            "           🙄       0.00      0.00      0.00        29\n",
            "           🙌       0.00      0.00      0.00        37\n",
            "           🙏       0.00      0.00      0.00        33\n",
            "           🤔       0.03      0.19      0.05        26\n",
            "           🤗       0.00      0.00      0.00        34\n",
            "           🤣       0.00      0.00      0.00        33\n",
            "           🤩       0.00      0.00      0.00        39\n",
            "           🤪       0.00      0.00      0.00        45\n",
            "           🥰       0.05      0.17      0.08        29\n",
            "\n",
            "    accuracy                           0.03      1000\n",
            "   macro avg       0.01      0.03      0.01      1000\n",
            "weighted avg       0.01      0.03      0.01      1000\n",
            "\n"
          ]
        },
        {
          "output_type": "stream",
          "name": "stderr",
          "text": [
            "/usr/local/lib/python3.11/dist-packages/sklearn/metrics/_classification.py:1565: UndefinedMetricWarning: Precision is ill-defined and being set to 0.0 in labels with no predicted samples. Use `zero_division` parameter to control this behavior.\n",
            "  _warn_prf(average, modifier, f\"{metric.capitalize()} is\", len(result))\n",
            "/usr/local/lib/python3.11/dist-packages/sklearn/metrics/_classification.py:1565: UndefinedMetricWarning: Precision is ill-defined and being set to 0.0 in labels with no predicted samples. Use `zero_division` parameter to control this behavior.\n",
            "  _warn_prf(average, modifier, f\"{metric.capitalize()} is\", len(result))\n",
            "/usr/local/lib/python3.11/dist-packages/sklearn/metrics/_classification.py:1565: UndefinedMetricWarning: Precision is ill-defined and being set to 0.0 in labels with no predicted samples. Use `zero_division` parameter to control this behavior.\n",
            "  _warn_prf(average, modifier, f\"{metric.capitalize()} is\", len(result))\n"
          ]
        }
      ],
      "source": [
        "import pandas as pd\n",
        "from sklearn.model_selection import train_test_split\n",
        "from sklearn.feature_extraction.text import TfidfVectorizer\n",
        "from sklearn.linear_model import LogisticRegression\n",
        "from sklearn.metrics import classification_report, accuracy_score\n",
        "df = pd.read_csv('emoji_usage_dataset.csv')\n",
        "print(df.head())\n",
        "X = df['Context']\n",
        "y = df['Emoji']\n",
        "X_train, X_test, y_train, y_test = train_test_split(X, y, test_size=0.2, random_state=42)\n",
        "vectorizer = TfidfVectorizer(max_features=5000)\n",
        "X_train_tfidf = vectorizer.fit_transform(X_train)\n",
        "X_test_tfidf = vectorizer.transform(X_test)\n",
        "model = LogisticRegression(max_iter=1000)\n",
        "model.fit(X_train_tfidf, y_train)\n",
        "y_pred = model.predict(X_test_tfidf)\n",
        "print(\"Accuracy:\", accuracy_score(y_test, y_pred))\n",
        "print(\"\\nClassification Report:\\n\", classification_report(y_test, y_pred))\n"
      ]
    }
  ]
}